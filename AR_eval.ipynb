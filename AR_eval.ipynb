{
  "cells": [
    {
      "cell_type": "code",
      "execution_count": 4,
      "metadata": {
        "colab": {
          "base_uri": "https://localhost:8080/"
        },
        "id": "Wlh23FqsYjJx",
        "outputId": "10bff89a-112d-4353-aa1b-cc289df16ace"
      },
      "outputs": [
        {
          "name": "stdout",
          "output_type": "stream",
          "text": [
            "Requirement already satisfied: transformers in /Users/aleenkmail/miniconda3/lib/python3.10/site-packages (4.29.2)\n",
            "Requirement already satisfied: filelock in /Users/aleenkmail/miniconda3/lib/python3.10/site-packages (from transformers) (3.12.0)\n",
            "Requirement already satisfied: huggingface-hub<1.0,>=0.14.1 in /Users/aleenkmail/miniconda3/lib/python3.10/site-packages (from transformers) (0.14.1)\n",
            "Requirement already satisfied: numpy>=1.17 in /Users/aleenkmail/miniconda3/lib/python3.10/site-packages (from transformers) (1.23.5)\n",
            "Requirement already satisfied: packaging>=20.0 in /Users/aleenkmail/miniconda3/lib/python3.10/site-packages (from transformers) (23.1)\n",
            "Requirement already satisfied: pyyaml>=5.1 in /Users/aleenkmail/miniconda3/lib/python3.10/site-packages (from transformers) (6.0)\n",
            "Requirement already satisfied: regex!=2019.12.17 in /Users/aleenkmail/miniconda3/lib/python3.10/site-packages (from transformers) (2023.5.5)\n",
            "Requirement already satisfied: requests in /Users/aleenkmail/miniconda3/lib/python3.10/site-packages (from transformers) (2.28.1)\n",
            "Requirement already satisfied: tokenizers!=0.11.3,<0.14,>=0.11.1 in /Users/aleenkmail/miniconda3/lib/python3.10/site-packages (from transformers) (0.13.3)\n",
            "Requirement already satisfied: tqdm>=4.27 in /Users/aleenkmail/miniconda3/lib/python3.10/site-packages (from transformers) (4.64.1)\n",
            "Requirement already satisfied: fsspec in /Users/aleenkmail/miniconda3/lib/python3.10/site-packages (from huggingface-hub<1.0,>=0.14.1->transformers) (2023.5.0)\n",
            "Requirement already satisfied: typing-extensions>=3.7.4.3 in /Users/aleenkmail/miniconda3/lib/python3.10/site-packages (from huggingface-hub<1.0,>=0.14.1->transformers) (4.5.0)\n",
            "Requirement already satisfied: charset-normalizer<3,>=2 in /Users/aleenkmail/miniconda3/lib/python3.10/site-packages (from requests->transformers) (2.0.4)\n",
            "Requirement already satisfied: idna<4,>=2.5 in /Users/aleenkmail/miniconda3/lib/python3.10/site-packages (from requests->transformers) (3.4)\n",
            "Requirement already satisfied: urllib3<1.27,>=1.21.1 in /Users/aleenkmail/miniconda3/lib/python3.10/site-packages (from requests->transformers) (1.26.14)\n",
            "Requirement already satisfied: certifi>=2017.4.17 in /Users/aleenkmail/miniconda3/lib/python3.10/site-packages (from requests->transformers) (2022.12.7)\n"
          ]
        }
      ],
      "source": [
        "!pip install transformers"
      ]
    },
    {
      "cell_type": "code",
      "execution_count": 1,
      "metadata": {
        "colab": {
          "base_uri": "https://localhost:8080/"
        },
        "id": "XnY9gkKCAFlS",
        "outputId": "1104844f-615e-4264-90fc-2bf722158eed"
      },
      "outputs": [
        {
          "name": "stdout",
          "output_type": "stream",
          "text": [
            "Requirement already satisfied: sentence_transformers in c:\\users\\nasser\\.conda\\envs\\finall\\lib\\site-packages (2.2.2)\n",
            "Requirement already satisfied: huggingface-hub>=0.4.0 in c:\\users\\nasser\\.conda\\envs\\finall\\lib\\site-packages (from sentence_transformers) (0.13.4)\n",
            "Requirement already satisfied: numpy in c:\\users\\nasser\\.conda\\envs\\finall\\lib\\site-packages (from sentence_transformers) (1.21.6)\n",
            "Requirement already satisfied: torchvision in c:\\users\\nasser\\.conda\\envs\\finall\\lib\\site-packages (from sentence_transformers) (0.14.1)\n",
            "Requirement already satisfied: torch>=1.6.0 in c:\\users\\nasser\\.conda\\envs\\finall\\lib\\site-packages (from sentence_transformers) (1.13.1)\n",
            "Requirement already satisfied: transformers<5.0.0,>=4.6.0 in c:\\users\\nasser\\.conda\\envs\\finall\\lib\\site-packages (from sentence_transformers) (4.27.4)\n",
            "Requirement already satisfied: scikit-learn in c:\\users\\nasser\\.conda\\envs\\finall\\lib\\site-packages (from sentence_transformers) (1.0.2)\n",
            "Requirement already satisfied: nltk in c:\\users\\nasser\\.conda\\envs\\finall\\lib\\site-packages (from sentence_transformers) (3.8.1)\n",
            "Requirement already satisfied: sentencepiece in c:\\users\\nasser\\.conda\\envs\\finall\\lib\\site-packages (from sentence_transformers) (0.1.97)\n",
            "Requirement already satisfied: scipy in c:\\users\\nasser\\.conda\\envs\\finall\\lib\\site-packages (from sentence_transformers) (1.7.3)\n",
            "Requirement already satisfied: tqdm in c:\\users\\nasser\\.conda\\envs\\finall\\lib\\site-packages (from sentence_transformers) (4.65.0)\n",
            "Requirement already satisfied: importlib-metadata in c:\\users\\nasser\\.conda\\envs\\finall\\lib\\site-packages (from huggingface-hub>=0.4.0->sentence_transformers) (6.1.0)\n",
            "Requirement already satisfied: packaging>=20.9 in c:\\users\\nasser\\.conda\\envs\\finall\\lib\\site-packages (from huggingface-hub>=0.4.0->sentence_transformers) (23.0)\n",
            "Requirement already satisfied: typing-extensions>=3.7.4.3 in c:\\users\\nasser\\.conda\\envs\\finall\\lib\\site-packages (from huggingface-hub>=0.4.0->sentence_transformers) (4.5.0)\n",
            "Requirement already satisfied: requests in c:\\users\\nasser\\.conda\\envs\\finall\\lib\\site-packages (from huggingface-hub>=0.4.0->sentence_transformers) (2.28.2)\n",
            "Requirement already satisfied: pyyaml>=5.1 in c:\\users\\nasser\\.conda\\envs\\finall\\lib\\site-packages (from huggingface-hub>=0.4.0->sentence_transformers) (6.0)\n",
            "Requirement already satisfied: filelock in c:\\users\\nasser\\.conda\\envs\\finall\\lib\\site-packages (from huggingface-hub>=0.4.0->sentence_transformers) (3.11.0)\n",
            "Requirement already satisfied: colorama in c:\\users\\nasser\\.conda\\envs\\finall\\lib\\site-packages (from tqdm->sentence_transformers) (0.4.6)\n",
            "Requirement already satisfied: regex!=2019.12.17 in c:\\users\\nasser\\.conda\\envs\\finall\\lib\\site-packages (from transformers<5.0.0,>=4.6.0->sentence_transformers) (2022.10.31)\n",
            "Requirement already satisfied: tokenizers!=0.11.3,<0.14,>=0.11.1 in c:\\users\\nasser\\.conda\\envs\\finall\\lib\\site-packages (from transformers<5.0.0,>=4.6.0->sentence_transformers) (0.13.3)\n",
            "Requirement already satisfied: click in c:\\users\\nasser\\.conda\\envs\\finall\\lib\\site-packages (from nltk->sentence_transformers) (8.1.3)\n",
            "Requirement already satisfied: joblib in c:\\users\\nasser\\.conda\\envs\\finall\\lib\\site-packages (from nltk->sentence_transformers) (1.2.0)\n",
            "Requirement already satisfied: threadpoolctl>=2.0.0 in c:\\users\\nasser\\.conda\\envs\\finall\\lib\\site-packages (from scikit-learn->sentence_transformers) (3.1.0)\n",
            "Requirement already satisfied: pillow!=8.3.*,>=5.3.0 in c:\\users\\nasser\\.conda\\envs\\finall\\lib\\site-packages (from torchvision->sentence_transformers) (9.5.0)\n",
            "Requirement already satisfied: zipp>=0.5 in c:\\users\\nasser\\.conda\\envs\\finall\\lib\\site-packages (from importlib-metadata->huggingface-hub>=0.4.0->sentence_transformers) (3.15.0)\n",
            "Requirement already satisfied: urllib3<1.27,>=1.21.1 in c:\\users\\nasser\\.conda\\envs\\finall\\lib\\site-packages (from requests->huggingface-hub>=0.4.0->sentence_transformers) (1.26.15)\n",
            "Requirement already satisfied: idna<4,>=2.5 in c:\\users\\nasser\\.conda\\envs\\finall\\lib\\site-packages (from requests->huggingface-hub>=0.4.0->sentence_transformers) (3.4)\n",
            "Requirement already satisfied: certifi>=2017.4.17 in c:\\users\\nasser\\.conda\\envs\\finall\\lib\\site-packages (from requests->huggingface-hub>=0.4.0->sentence_transformers) (2022.12.7)\n",
            "Requirement already satisfied: charset-normalizer<4,>=2 in c:\\users\\nasser\\.conda\\envs\\finall\\lib\\site-packages (from requests->huggingface-hub>=0.4.0->sentence_transformers) (3.1.0)\n"
          ]
        }
      ],
      "source": [
        "!pip install sentence_transformers"
      ]
    },
    {
      "cell_type": "code",
      "execution_count": 1,
      "metadata": {},
      "outputs": [
        {
          "name": "stderr",
          "output_type": "stream",
          "text": [
            "/Users/aleenkmail/miniconda3/lib/python3.10/site-packages/tqdm/auto.py:22: TqdmWarning: IProgress not found. Please update jupyter and ipywidgets. See https://ipywidgets.readthedocs.io/en/stable/user_install.html\n",
            "  from .autonotebook import tqdm as notebook_tqdm\n"
          ]
        }
      ],
      "source": [
        "import pandas as pd\n",
        "from transformers import TFGPT2LMHeadModel, GPT2Tokenizer\n",
        "from sentence_transformers import SentenceTransformer, util"
      ]
    },
    {
      "cell_type": "code",
      "execution_count": 3,
      "metadata": {
        "colab": {
          "base_uri": "https://localhost:8080/"
        },
        "id": "WOF6v9TNXk-t",
        "outputId": "4c026318-1816-4c1f-ac67-7562642eefbc"
      },
      "outputs": [],
      "source": [
        "data = pd.read_csv(\"Arabic_poetry_dataset.csv\")"
      ]
    },
    {
      "cell_type": "code",
      "execution_count": 7,
      "metadata": {},
      "outputs": [],
      "source": [
        "truth = data[\"poem_text\"]"
      ]
    },
    {
      "cell_type": "code",
      "execution_count": 10,
      "metadata": {},
      "outputs": [],
      "source": [
        "truth = truth[0].split(\"\\n\")"
      ]
    },
    {
      "cell_type": "code",
      "execution_count": 11,
      "metadata": {},
      "outputs": [],
      "source": [
        "truth = truth[:16]"
      ]
    },
    {
      "cell_type": "code",
      "execution_count": 12,
      "metadata": {},
      "outputs": [
        {
          "data": {
            "text/plain": [
              "['بدت تختال في حُلل الجمالِ',\n",
              " 'وجادت بالزيارة والوصال',\n",
              " 'تميس فلا يعادلها قضيب',\n",
              " 'وإن ترنو تداعب بالنصال',\n",
              " 'بمبسمها لَعَمرُ أبيك درٌّ',\n",
              " 'وفي أعماقها نبع الزلالِ',\n",
              " 'وخصر يستبيك إذا تولت',\n",
              " 'كغصن البان في كُثب الرمالِ',\n",
              " 'تبدّت كالقضيب على كثيب',\n",
              " 'وجلّت كالمنيرة في الليالي',\n",
              " 'فقمت أداعب الوجنات منها',\n",
              " 'وألثم ثغرها حكي اللآلي',\n",
              " 'وأهصرُ غصنها ضماً ولمّاً',\n",
              " 'وألهو باليمين وبالشمال',\n",
              " 'ومن خلق العفاف لنا رقيب',\n",
              " 'بطهر الحب في حسن الخلال']"
            ]
          },
          "execution_count": 12,
          "metadata": {},
          "output_type": "execute_result"
        }
      ],
      "source": [
        "truth"
      ]
    },
    {
      "cell_type": "code",
      "execution_count": 13,
      "metadata": {
        "id": "SR1ifyzwBthG"
      },
      "outputs": [],
      "source": [
        "seeds = []\n",
        "for line in truth:\n",
        "  seeds.append(line.split(\" \")[0]+\" \"+line.split(\" \")[1])"
      ]
    },
    {
      "cell_type": "code",
      "execution_count": 14,
      "metadata": {
        "colab": {
          "base_uri": "https://localhost:8080/"
        },
        "id": "6dHEHaj2CFqg",
        "outputId": "d22d6591-d0f7-4241-dfc6-b27ce055e1a5"
      },
      "outputs": [
        {
          "data": {
            "text/plain": [
              "['بدت تختال',\n",
              " 'وجادت بالزيارة',\n",
              " 'تميس فلا',\n",
              " 'وإن ترنو',\n",
              " 'بمبسمها لَعَمرُ',\n",
              " 'وفي أعماقها',\n",
              " 'وخصر يستبيك',\n",
              " 'كغصن البان',\n",
              " 'تبدّت كالقضيب',\n",
              " 'وجلّت كالمنيرة',\n",
              " 'فقمت أداعب',\n",
              " 'وألثم ثغرها',\n",
              " 'وأهصرُ غصنها',\n",
              " 'وألهو باليمين',\n",
              " 'ومن خلق',\n",
              " 'بطهر الحب']"
            ]
          },
          "execution_count": 14,
          "metadata": {},
          "output_type": "execute_result"
        }
      ],
      "source": [
        "seeds"
      ]
    },
    {
      "cell_type": "code",
      "execution_count": 2,
      "metadata": {
        "colab": {
          "base_uri": "https://localhost:8080/"
        },
        "id": "CIKXwBvaYbMq",
        "outputId": "f6e3481b-9a90-4533-fc50-451c6132c4a6"
      },
      "outputs": [
        {
          "name": "stderr",
          "output_type": "stream",
          "text": [
            "All model checkpoint layers were used when initializing TFGPT2LMHeadModel.\n",
            "\n",
            "All the layers of TFGPT2LMHeadModel were initialized from the model checkpoint at gpt2_fine_tuned_model_arabic.\n",
            "If your task is similar to the task the model of the checkpoint was trained on, you can already use TFGPT2LMHeadModel for predictions without further training.\n"
          ]
        }
      ],
      "source": [
        "model = TFGPT2LMHeadModel.from_pretrained('gpt2_fine_tuned_model_arabic')\n",
        "tokenizer = GPT2Tokenizer.from_pretrained('gpt2_tokenizer_fine_tuned_model_arabic')"
      ]
    },
    {
      "cell_type": "code",
      "execution_count": 18,
      "metadata": {
        "id": "J_CaYpJuCt7j"
      },
      "outputs": [
        {
          "name": "stderr",
          "output_type": "stream",
          "text": [
            "The attention mask and the pad token id were not set. As a consequence, you may observe unexpected behavior. Please pass your input's `attention_mask` to obtain reliable results.\n",
            "Setting `pad_token_id` to `eos_token_id`:0 for open-end generation.\n",
            "The attention mask and the pad token id were not set. As a consequence, you may observe unexpected behavior. Please pass your input's `attention_mask` to obtain reliable results.\n",
            "Setting `pad_token_id` to `eos_token_id`:0 for open-end generation.\n",
            "The attention mask and the pad token id were not set. As a consequence, you may observe unexpected behavior. Please pass your input's `attention_mask` to obtain reliable results.\n",
            "Setting `pad_token_id` to `eos_token_id`:0 for open-end generation.\n",
            "The attention mask and the pad token id were not set. As a consequence, you may observe unexpected behavior. Please pass your input's `attention_mask` to obtain reliable results.\n",
            "Setting `pad_token_id` to `eos_token_id`:0 for open-end generation.\n",
            "The attention mask and the pad token id were not set. As a consequence, you may observe unexpected behavior. Please pass your input's `attention_mask` to obtain reliable results.\n",
            "Setting `pad_token_id` to `eos_token_id`:0 for open-end generation.\n",
            "The attention mask and the pad token id were not set. As a consequence, you may observe unexpected behavior. Please pass your input's `attention_mask` to obtain reliable results.\n",
            "Setting `pad_token_id` to `eos_token_id`:0 for open-end generation.\n",
            "The attention mask and the pad token id were not set. As a consequence, you may observe unexpected behavior. Please pass your input's `attention_mask` to obtain reliable results.\n",
            "Setting `pad_token_id` to `eos_token_id`:0 for open-end generation.\n",
            "The attention mask and the pad token id were not set. As a consequence, you may observe unexpected behavior. Please pass your input's `attention_mask` to obtain reliable results.\n",
            "Setting `pad_token_id` to `eos_token_id`:0 for open-end generation.\n",
            "The attention mask and the pad token id were not set. As a consequence, you may observe unexpected behavior. Please pass your input's `attention_mask` to obtain reliable results.\n",
            "Setting `pad_token_id` to `eos_token_id`:0 for open-end generation.\n",
            "The attention mask and the pad token id were not set. As a consequence, you may observe unexpected behavior. Please pass your input's `attention_mask` to obtain reliable results.\n",
            "Setting `pad_token_id` to `eos_token_id`:0 for open-end generation.\n",
            "The attention mask and the pad token id were not set. As a consequence, you may observe unexpected behavior. Please pass your input's `attention_mask` to obtain reliable results.\n",
            "Setting `pad_token_id` to `eos_token_id`:0 for open-end generation.\n",
            "The attention mask and the pad token id were not set. As a consequence, you may observe unexpected behavior. Please pass your input's `attention_mask` to obtain reliable results.\n",
            "Setting `pad_token_id` to `eos_token_id`:0 for open-end generation.\n",
            "The attention mask and the pad token id were not set. As a consequence, you may observe unexpected behavior. Please pass your input's `attention_mask` to obtain reliable results.\n",
            "Setting `pad_token_id` to `eos_token_id`:0 for open-end generation.\n",
            "The attention mask and the pad token id were not set. As a consequence, you may observe unexpected behavior. Please pass your input's `attention_mask` to obtain reliable results.\n",
            "Setting `pad_token_id` to `eos_token_id`:0 for open-end generation.\n",
            "The attention mask and the pad token id were not set. As a consequence, you may observe unexpected behavior. Please pass your input's `attention_mask` to obtain reliable results.\n",
            "Setting `pad_token_id` to `eos_token_id`:0 for open-end generation.\n",
            "The attention mask and the pad token id were not set. As a consequence, you may observe unexpected behavior. Please pass your input's `attention_mask` to obtain reliable results.\n",
            "Setting `pad_token_id` to `eos_token_id`:0 for open-end generation.\n"
          ]
        }
      ],
      "source": [
        "predicted = []\n",
        "for seed in seeds:\n",
        "\n",
        "  seed_test= seed\n",
        "  input_ids = tokenizer.encode(seed_test, return_tensors='tf')\n",
        "  sample_outputs = model.generate(\n",
        "    input_ids,\n",
        "    do_sample=True,\n",
        "    max_length=15,\n",
        "    top_k=0,\n",
        "    top_p=0.9,\n",
        "    temperature=0.8,\n",
        "    num_return_sequences=1\n",
        "  )\n",
        "\n",
        "  predicted.append(tokenizer.decode(sample_outputs[0], skip_special_tokens=True))\n"
      ]
    },
    {
      "cell_type": "code",
      "execution_count": 19,
      "metadata": {
        "colab": {
          "base_uri": "https://localhost:8080/"
        },
        "id": "8KKavWt8DhnE",
        "outputId": "4917d48a-6a64-45cd-b16b-dc6dc61c492d"
      },
      "outputs": [
        {
          "data": {
            "text/plain": [
              "['بدت تختال خلف بعض الحيوانات التي لا ينتبه لها احد في الحديقة ،',\n",
              " 'وجادت بالزيارة الخاطفة التي قام بها وزير الخارجية الايراني علي اكبر صالحي',\n",
              " 'تميس فلا تضره ).',\n",
              " 'وإن ترنو بعين الذاكرة إلى ما فيه خير الدنيا والآخرة ، فهيهات',\n",
              " 'بمبسمها لَعَمرُ.',\n",
              " 'وفي أعماقها أعباها, هو مازال حيا بدمعته مشتاقا',\n",
              " 'وخصر يستبيك لاكنه.',\n",
              " 'كغصن البان بها',\n",
              " 'تبدّت كالقضيبد من شدة العطش, نهضت من',\n",
              " 'وجلّت كالمنيرة.أما أن تحصر معالجة من',\n",
              " 'فقمت أداعب ساقي بأذني حتى كاد أن ينتصب وجهي',\n",
              " 'وألثم ثغرها لحجرها من العين ، فجعلها',\n",
              " 'وأهصرُ غصنها ولاقالهوآ عقى',\n",
              " 'وألهو باليمين ، ثم قلنا : \" أما هذه ، فإنها لا',\n",
              " 'ومن خلق الله ، هذا الضوء الذي لا ينضب....',\n",
              " 'بطهر الحب المصبوغ بفخر وفخر......']"
            ]
          },
          "execution_count": 19,
          "metadata": {},
          "output_type": "execute_result"
        }
      ],
      "source": [
        "predicted"
      ]
    },
    {
      "cell_type": "code",
      "execution_count": 21,
      "metadata": {
        "colab": {
          "base_uri": "https://localhost:8080/"
        },
        "id": "NyiF70kzDld6",
        "outputId": "2430b42f-19df-4fd1-bee6-ee525b09a754"
      },
      "outputs": [
        {
          "data": {
            "text/plain": [
              "['بدت تختال في حُلل الجمالِ',\n",
              " 'وجادت بالزيارة والوصال',\n",
              " 'تميس فلا يعادلها قضيب',\n",
              " 'وإن ترنو تداعب بالنصال',\n",
              " 'بمبسمها لَعَمرُ أبيك درٌّ',\n",
              " 'وفي أعماقها نبع الزلالِ',\n",
              " 'وخصر يستبيك إذا تولت',\n",
              " 'كغصن البان في كُثب الرمالِ',\n",
              " 'تبدّت كالقضيب على كثيب',\n",
              " 'وجلّت كالمنيرة في الليالي',\n",
              " 'فقمت أداعب الوجنات منها',\n",
              " 'وألثم ثغرها حكي اللآلي',\n",
              " 'وأهصرُ غصنها ضماً ولمّاً',\n",
              " 'وألهو باليمين وبالشمال',\n",
              " 'ومن خلق العفاف لنا رقيب',\n",
              " 'بطهر الحب في حسن الخلال']"
            ]
          },
          "execution_count": 21,
          "metadata": {},
          "output_type": "execute_result"
        }
      ],
      "source": [
        "truth"
      ]
    },
    {
      "cell_type": "code",
      "execution_count": null,
      "metadata": {
        "colab": {
          "base_uri": "https://localhost:8080/"
        },
        "id": "TbBKnH4kZY47",
        "outputId": "2a4bc936-48cb-43a6-8ed0-0545843cd175"
      },
      "outputs": [
        {
          "name": "stdout",
          "output_type": "stream",
          "text": [
            "Output: the fox is to be found in his prideful race of pussies and pegasus roves the woods he roves his way around the park\n",
            "\n",
            "! lilly lovell's rage's swelling bellows and the ragamuffin'd\n"
          ]
        }
      ],
      "source": [
        "# print(\"Output:\", tokenizer.decode(sample_outputs[0], skip_special_tokens=True))"
      ]
    },
    {
      "cell_type": "code",
      "execution_count": 24,
      "metadata": {
        "id": "ey2yAnXeACdV"
      },
      "outputs": [
        {
          "name": "stderr",
          "output_type": "stream",
          "text": [
            "Downloading (…)125/data_config.json: 100%|██████████| 39.3k/39.3k [00:00<00:00, 295kB/s]\n",
            "Downloading pytorch_model.bin: 100%|██████████| 90.9M/90.9M [00:17<00:00, 5.30MB/s]\n",
            "Downloading (…)nce_bert_config.json: 100%|██████████| 53.0/53.0 [00:00<00:00, 13.2kB/s]\n",
            "Downloading (…)cial_tokens_map.json: 100%|██████████| 112/112 [00:00<00:00, 37.3kB/s]\n",
            "Downloading (…)e9125/tokenizer.json: 100%|██████████| 466k/466k [00:00<00:00, 1.08MB/s]\n",
            "Downloading (…)okenizer_config.json: 100%|██████████| 350/350 [00:00<00:00, 117kB/s]\n",
            "Downloading (…)9125/train_script.py: 100%|██████████| 13.2k/13.2k [00:00<00:00, 1.65MB/s]\n",
            "Downloading (…)7e55de9125/vocab.txt: 100%|██████████| 232k/232k [00:00<00:00, 791kB/s]\n",
            "Downloading (…)5de9125/modules.json: 100%|██████████| 349/349 [00:00<00:00, 49.9kB/s]\n"
          ]
        }
      ],
      "source": [
        "model2 = SentenceTransformer('all-MiniLM-L6-v2')\n",
        "\n",
        "#encode the sentences \n",
        "truth_embeddings = model2.encode(truth, convert_to_tensor=True)\n",
        "predicted_embeddings = model2.encode(predicted, convert_to_tensor=True)\n",
        "\n",
        "scores = []\n",
        "#compute the similarity scores\n",
        "for i in range(len(truth_embeddings)):\n",
        "  cosine_scores = (util.cos_sim(truth_embeddings[i], predicted_embeddings[i]))\n",
        "  scores.append(cosine_scores)\n",
        "\n",
        "#compute/find the highest similarity scores\n",
        "pairs = []\n",
        "for i in range(len(scores)):\n",
        "      pairs.append({'index': [i], 'score': scores[i]})\n"
      ]
    },
    {
      "cell_type": "code",
      "execution_count": 37,
      "metadata": {
        "id": "VXSEWMJ2GZii"
      },
      "outputs": [],
      "source": [
        "\n",
        "output_df = pd.DataFrame({'truth': truth, 'predicted': predicted, 'score': scores})\n",
        "output_df['score'] = output_df['score'].apply(lambda x: x.item())\n",
        "output_df.sort_values(by=['score'], ascending=False, inplace=True)"
      ]
    },
    {
      "cell_type": "code",
      "execution_count": 38,
      "metadata": {},
      "outputs": [
        {
          "data": {
            "text/html": [
              "<div>\n",
              "<style scoped>\n",
              "    .dataframe tbody tr th:only-of-type {\n",
              "        vertical-align: middle;\n",
              "    }\n",
              "\n",
              "    .dataframe tbody tr th {\n",
              "        vertical-align: top;\n",
              "    }\n",
              "\n",
              "    .dataframe thead th {\n",
              "        text-align: right;\n",
              "    }\n",
              "</style>\n",
              "<table border=\"1\" class=\"dataframe\">\n",
              "  <thead>\n",
              "    <tr style=\"text-align: right;\">\n",
              "      <th></th>\n",
              "      <th>truth</th>\n",
              "      <th>predicted</th>\n",
              "      <th>score</th>\n",
              "    </tr>\n",
              "  </thead>\n",
              "  <tbody>\n",
              "    <tr>\n",
              "      <th>11</th>\n",
              "      <td>وألثم ثغرها حكي اللآلي</td>\n",
              "      <td>وألثم ثغرها لحجرها من العين ، فجعلها</td>\n",
              "      <td>0.940099</td>\n",
              "    </tr>\n",
              "    <tr>\n",
              "      <th>7</th>\n",
              "      <td>كغصن البان في كُثب الرمالِ</td>\n",
              "      <td>كغصن البان بها</td>\n",
              "      <td>0.919654</td>\n",
              "    </tr>\n",
              "    <tr>\n",
              "      <th>6</th>\n",
              "      <td>وخصر يستبيك إذا تولت</td>\n",
              "      <td>وخصر يستبيك لاكنه.</td>\n",
              "      <td>0.877177</td>\n",
              "    </tr>\n",
              "    <tr>\n",
              "      <th>9</th>\n",
              "      <td>وجلّت كالمنيرة في الليالي</td>\n",
              "      <td>وجلّت كالمنيرة.أما أن تحصر معالجة من</td>\n",
              "      <td>0.870849</td>\n",
              "    </tr>\n",
              "    <tr>\n",
              "      <th>8</th>\n",
              "      <td>تبدّت كالقضيب على كثيب</td>\n",
              "      <td>تبدّت كالقضيبد من شدة العطش, نهضت من</td>\n",
              "      <td>0.856641</td>\n",
              "    </tr>\n",
              "    <tr>\n",
              "      <th>5</th>\n",
              "      <td>وفي أعماقها نبع الزلالِ</td>\n",
              "      <td>وفي أعماقها أعباها, هو مازال حيا بدمعته مشتاقا</td>\n",
              "      <td>0.853772</td>\n",
              "    </tr>\n",
              "    <tr>\n",
              "      <th>2</th>\n",
              "      <td>تميس فلا يعادلها قضيب</td>\n",
              "      <td>تميس فلا تضره ).</td>\n",
              "      <td>0.848158</td>\n",
              "    </tr>\n",
              "    <tr>\n",
              "      <th>10</th>\n",
              "      <td>فقمت أداعب الوجنات منها</td>\n",
              "      <td>فقمت أداعب ساقي بأذني حتى كاد أن ينتصب وجهي</td>\n",
              "      <td>0.839456</td>\n",
              "    </tr>\n",
              "    <tr>\n",
              "      <th>4</th>\n",
              "      <td>بمبسمها لَعَمرُ أبيك درٌّ</td>\n",
              "      <td>بمبسمها لَعَمرُ.</td>\n",
              "      <td>0.824243</td>\n",
              "    </tr>\n",
              "    <tr>\n",
              "      <th>12</th>\n",
              "      <td>وأهصرُ غصنها ضماً ولمّاً</td>\n",
              "      <td>وأهصرُ غصنها ولاقالهوآ عقى</td>\n",
              "      <td>0.792081</td>\n",
              "    </tr>\n",
              "    <tr>\n",
              "      <th>0</th>\n",
              "      <td>بدت تختال في حُلل الجمالِ</td>\n",
              "      <td>بدت تختال خلف بعض الحيوانات التي لا ينتبه لها احد في الحديقة ،</td>\n",
              "      <td>0.784938</td>\n",
              "    </tr>\n",
              "    <tr>\n",
              "      <th>3</th>\n",
              "      <td>وإن ترنو تداعب بالنصال</td>\n",
              "      <td>وإن ترنو بعين الذاكرة إلى ما فيه خير الدنيا والآخرة ، فهيهات</td>\n",
              "      <td>0.776742</td>\n",
              "    </tr>\n",
              "    <tr>\n",
              "      <th>1</th>\n",
              "      <td>وجادت بالزيارة والوصال</td>\n",
              "      <td>وجادت بالزيارة الخاطفة التي قام بها وزير الخارجية الايراني علي اكبر صالحي</td>\n",
              "      <td>0.736243</td>\n",
              "    </tr>\n",
              "    <tr>\n",
              "      <th>14</th>\n",
              "      <td>ومن خلق العفاف لنا رقيب</td>\n",
              "      <td>ومن خلق الله ، هذا الضوء الذي لا ينضب....</td>\n",
              "      <td>0.679623</td>\n",
              "    </tr>\n",
              "    <tr>\n",
              "      <th>15</th>\n",
              "      <td>بطهر الحب في حسن الخلال</td>\n",
              "      <td>بطهر الحب المصبوغ بفخر وفخر......</td>\n",
              "      <td>0.657739</td>\n",
              "    </tr>\n",
              "    <tr>\n",
              "      <th>13</th>\n",
              "      <td>وألهو باليمين وبالشمال</td>\n",
              "      <td>وألهو باليمين ، ثم قلنا : \" أما هذه ، فإنها لا</td>\n",
              "      <td>0.585546</td>\n",
              "    </tr>\n",
              "  </tbody>\n",
              "</table>\n",
              "</div>"
            ],
            "text/plain": [
              "                         truth  \\\n",
              "11      وألثم ثغرها حكي اللآلي   \n",
              "7   كغصن البان في كُثب الرمالِ   \n",
              "6         وخصر يستبيك إذا تولت   \n",
              "9    وجلّت كالمنيرة في الليالي   \n",
              "8       تبدّت كالقضيب على كثيب   \n",
              "5      وفي أعماقها نبع الزلالِ   \n",
              "2        تميس فلا يعادلها قضيب   \n",
              "10     فقمت أداعب الوجنات منها   \n",
              "4    بمبسمها لَعَمرُ أبيك درٌّ   \n",
              "12    وأهصرُ غصنها ضماً ولمّاً   \n",
              "0    بدت تختال في حُلل الجمالِ   \n",
              "3       وإن ترنو تداعب بالنصال   \n",
              "1       وجادت بالزيارة والوصال   \n",
              "14     ومن خلق العفاف لنا رقيب   \n",
              "15     بطهر الحب في حسن الخلال   \n",
              "13      وألهو باليمين وبالشمال   \n",
              "\n",
              "                                                                    predicted  \\\n",
              "11                                       وألثم ثغرها لحجرها من العين ، فجعلها   \n",
              "7                                                              كغصن البان بها   \n",
              "6                                                          وخصر يستبيك لاكنه.   \n",
              "9                                        وجلّت كالمنيرة.أما أن تحصر معالجة من   \n",
              "8                                        تبدّت كالقضيبد من شدة العطش, نهضت من   \n",
              "5                              وفي أعماقها أعباها, هو مازال حيا بدمعته مشتاقا   \n",
              "2                                                            تميس فلا تضره ).   \n",
              "10                                فقمت أداعب ساقي بأذني حتى كاد أن ينتصب وجهي   \n",
              "4                                                            بمبسمها لَعَمرُ.   \n",
              "12                                                 وأهصرُ غصنها ولاقالهوآ عقى   \n",
              "0              بدت تختال خلف بعض الحيوانات التي لا ينتبه لها احد في الحديقة ،   \n",
              "3                وإن ترنو بعين الذاكرة إلى ما فيه خير الدنيا والآخرة ، فهيهات   \n",
              "1   وجادت بالزيارة الخاطفة التي قام بها وزير الخارجية الايراني علي اكبر صالحي   \n",
              "14                                  ومن خلق الله ، هذا الضوء الذي لا ينضب....   \n",
              "15                                          بطهر الحب المصبوغ بفخر وفخر......   \n",
              "13                             وألهو باليمين ، ثم قلنا : \" أما هذه ، فإنها لا   \n",
              "\n",
              "       score  \n",
              "11  0.940099  \n",
              "7   0.919654  \n",
              "6   0.877177  \n",
              "9   0.870849  \n",
              "8   0.856641  \n",
              "5   0.853772  \n",
              "2   0.848158  \n",
              "10  0.839456  \n",
              "4   0.824243  \n",
              "12  0.792081  \n",
              "0   0.784938  \n",
              "3   0.776742  \n",
              "1   0.736243  \n",
              "14  0.679623  \n",
              "15  0.657739  \n",
              "13  0.585546  "
            ]
          },
          "execution_count": 38,
          "metadata": {},
          "output_type": "execute_result"
        }
      ],
      "source": [
        "pd.set_option('display.max_colwidth', None)\n",
        "output_df"
      ]
    },
    {
      "cell_type": "code",
      "execution_count": 5,
      "metadata": {},
      "outputs": [
        {
          "name": "stderr",
          "output_type": "stream",
          "text": [
            "The attention mask and the pad token id were not set. As a consequence, you may observe unexpected behavior. Please pass your input's `attention_mask` to obtain reliable results.\n",
            "Setting `pad_token_id` to `eos_token_id`:0 for open-end generation.\n"
          ]
        },
        {
          "name": "stdout",
          "output_type": "stream",
          "text": [
            "Output 1: الحزن وما للحزن عند الحزن فغنتها السنون تغنيها بعظ\n",
            "Output 2: الحزن في القلب : لا شيء يزاده ويذويه في المحبوب كأنما\n",
            "Output 3: الحزن لا يهن حتى ولو طال العمر طال الوصل أو طال الوصال أو\n"
          ]
        }
      ],
      "source": [
        "seed_test= \"الحزن\"\n",
        "input_ids = tokenizer.encode(seed_test, return_tensors='tf')\n",
        "sample_outputs = model.generate(\n",
        "input_ids,\n",
        "do_sample=True,\n",
        "max_length=15,\n",
        "top_k=0,\n",
        "top_p=0.9,\n",
        "temperature=0.8,\n",
        "num_return_sequences=3\n",
        ")\n",
        "\n",
        "\n",
        "# Print generated output\n",
        "for i, output in enumerate(sample_outputs):\n",
        "    print(f\"Output {i + 1}: {tokenizer.decode(output, skip_special_tokens=True)}\")\n",
        "#  \"chill'd the fair dawning of the yearin honour of th' auspicious morn\",\n",
        "\n"
      ]
    },
    {
      "cell_type": "code",
      "execution_count": null,
      "metadata": {},
      "outputs": [],
      "source": []
    }
  ],
  "metadata": {
    "colab": {
      "provenance": []
    },
    "kernelspec": {
      "display_name": "Python 3",
      "name": "python3"
    },
    "language_info": {
      "codemirror_mode": {
        "name": "ipython",
        "version": 3
      },
      "file_extension": ".py",
      "mimetype": "text/x-python",
      "name": "python",
      "nbconvert_exporter": "python",
      "pygments_lexer": "ipython3",
      "version": "3.10.9"
    }
  },
  "nbformat": 4,
  "nbformat_minor": 0
}
