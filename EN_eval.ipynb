{
  "cells": [
    {
      "cell_type": "code",
      "execution_count": null,
      "metadata": {
        "colab": {
          "base_uri": "https://localhost:8080/"
        },
        "id": "Wlh23FqsYjJx",
        "outputId": "10bff89a-112d-4353-aa1b-cc289df16ace"
      },
      "outputs": [],
      "source": [
        "!pip install transformers"
      ]
    },
    {
      "cell_type": "code",
      "execution_count": null,
      "metadata": {
        "colab": {
          "base_uri": "https://localhost:8080/"
        },
        "id": "XnY9gkKCAFlS",
        "outputId": "1104844f-615e-4264-90fc-2bf722158eed"
      },
      "outputs": [],
      "source": [
        "!pip install sentence_transformers"
      ]
    },
    {
      "cell_type": "code",
      "execution_count": 1,
      "metadata": {},
      "outputs": [
        {
          "name": "stderr",
          "output_type": "stream",
          "text": [
            "c:\\Users\\nasser\\.conda\\envs\\finall\\lib\\site-packages\\tqdm\\auto.py:21: TqdmWarning: IProgress not found. Please update jupyter and ipywidgets. See https://ipywidgets.readthedocs.io/en/stable/user_install.html\n",
            "  from .autonotebook import tqdm as notebook_tqdm\n"
          ]
        }
      ],
      "source": [
        "import pandas as pd\n",
        "from transformers import TFGPT2LMHeadModel, GPT2Tokenizer\n",
        "from sentence_transformers import SentenceTransformer, util"
      ]
    },
    {
      "cell_type": "code",
      "execution_count": 2,
      "metadata": {
        "colab": {
          "base_uri": "https://localhost:8080/"
        },
        "id": "WOF6v9TNXk-t",
        "outputId": "4c026318-1816-4c1f-ac67-7562642eefbc"
      },
      "outputs": [],
      "source": [
        "data = pd.read_csv(\"merged_data.csv\")"
      ]
    },
    {
      "cell_type": "code",
      "execution_count": 3,
      "metadata": {},
      "outputs": [],
      "source": [
        "truth = data[\"Verse\"]"
      ]
    },
    {
      "cell_type": "code",
      "execution_count": 4,
      "metadata": {},
      "outputs": [],
      "source": [
        "truth = truth[:16]"
      ]
    },
    {
      "cell_type": "code",
      "execution_count": 5,
      "metadata": {},
      "outputs": [
        {
          "data": {
            "text/plain": [
              "0             ah why this boding start this sudden pain\n",
              "1      that wings my pulse and shoots from vein to vein\n",
              "2             what mean regardless of yon midnight bell\n",
              "3        these earthborn visions saddening o'er my cell\n",
              "4     what strange disorder prompts these thoughts t...\n",
              "5         these sighs to murmur and these tears to flow\n",
              "6                  'tis she 'tis eloisa's form restor'd\n",
              "7         once a pure saint and more than saints ador'd\n",
              "8           she comes in all her killing charms confest\n",
              "9       glares thro' the gloom and pours upon my breast\n",
              "10     bids heav'n's bright guard from paraclete remove\n",
              "11                 and drags me back to misery and love\n",
              "12                 enjoy thy triumphs dear illusion see\n",
              "13               this sad apostate from his god to thee\n",
              "14             see at thy call my guilty warmths return\n",
              "15        flame thro' my blood and steal me from my urn\n",
              "Name: Verse, dtype: object"
            ]
          },
          "execution_count": 5,
          "metadata": {},
          "output_type": "execute_result"
        }
      ],
      "source": [
        "truth"
      ]
    },
    {
      "cell_type": "code",
      "execution_count": 6,
      "metadata": {
        "id": "SR1ifyzwBthG"
      },
      "outputs": [],
      "source": [
        "seeds = []\n",
        "for line in truth:\n",
        "  seeds.append(line.split(\" \")[0]+\" \"+line.split(\" \")[1])"
      ]
    },
    {
      "cell_type": "code",
      "execution_count": 7,
      "metadata": {
        "colab": {
          "base_uri": "https://localhost:8080/"
        },
        "id": "6dHEHaj2CFqg",
        "outputId": "d22d6591-d0f7-4241-dfc6-b27ce055e1a5"
      },
      "outputs": [
        {
          "data": {
            "text/plain": [
              "['ah why',\n",
              " 'that wings',\n",
              " 'what mean',\n",
              " 'these earthborn',\n",
              " 'what strange',\n",
              " 'these sighs',\n",
              " \"'tis she\",\n",
              " 'once a',\n",
              " 'she comes',\n",
              " \"glares thro'\",\n",
              " \"bids heav'n's\",\n",
              " 'and drags',\n",
              " 'enjoy thy',\n",
              " 'this sad',\n",
              " 'see at',\n",
              " \"flame thro'\"]"
            ]
          },
          "execution_count": 7,
          "metadata": {},
          "output_type": "execute_result"
        }
      ],
      "source": [
        "seeds"
      ]
    },
    {
      "cell_type": "code",
      "execution_count": 9,
      "metadata": {
        "colab": {
          "base_uri": "https://localhost:8080/"
        },
        "id": "CIKXwBvaYbMq",
        "outputId": "f6e3481b-9a90-4533-fc50-451c6132c4a6"
      },
      "outputs": [
        {
          "name": "stderr",
          "output_type": "stream",
          "text": [
            "All model checkpoint layers were used when initializing TFGPT2LMHeadModel.\n",
            "\n",
            "All the layers of TFGPT2LMHeadModel were initialized from the model checkpoint at gpt2_fine_tuned_model_english.\n",
            "If your task is similar to the task the model of the checkpoint was trained on, you can already use TFGPT2LMHeadModel for predictions without further training.\n"
          ]
        }
      ],
      "source": [
        "model = TFGPT2LMHeadModel.from_pretrained('gpt2_fine_tuned_model_english')\n",
        "tokenizer = GPT2Tokenizer.from_pretrained('gpt2_tokenizer_fine_tuned_model_english')"
      ]
    },
    {
      "cell_type": "code",
      "execution_count": 10,
      "metadata": {
        "id": "J_CaYpJuCt7j"
      },
      "outputs": [
        {
          "name": "stderr",
          "output_type": "stream",
          "text": [
            "The attention mask and the pad token id were not set. As a consequence, you may observe unexpected behavior. Please pass your input's `attention_mask` to obtain reliable results.\n",
            "Setting `pad_token_id` to `eos_token_id`:50256 for open-end generation.\n",
            "The attention mask and the pad token id were not set. As a consequence, you may observe unexpected behavior. Please pass your input's `attention_mask` to obtain reliable results.\n",
            "Setting `pad_token_id` to `eos_token_id`:50256 for open-end generation.\n",
            "The attention mask and the pad token id were not set. As a consequence, you may observe unexpected behavior. Please pass your input's `attention_mask` to obtain reliable results.\n",
            "Setting `pad_token_id` to `eos_token_id`:50256 for open-end generation.\n",
            "The attention mask and the pad token id were not set. As a consequence, you may observe unexpected behavior. Please pass your input's `attention_mask` to obtain reliable results.\n",
            "Setting `pad_token_id` to `eos_token_id`:50256 for open-end generation.\n",
            "The attention mask and the pad token id were not set. As a consequence, you may observe unexpected behavior. Please pass your input's `attention_mask` to obtain reliable results.\n",
            "Setting `pad_token_id` to `eos_token_id`:50256 for open-end generation.\n",
            "The attention mask and the pad token id were not set. As a consequence, you may observe unexpected behavior. Please pass your input's `attention_mask` to obtain reliable results.\n",
            "Setting `pad_token_id` to `eos_token_id`:50256 for open-end generation.\n",
            "The attention mask and the pad token id were not set. As a consequence, you may observe unexpected behavior. Please pass your input's `attention_mask` to obtain reliable results.\n",
            "Setting `pad_token_id` to `eos_token_id`:50256 for open-end generation.\n",
            "The attention mask and the pad token id were not set. As a consequence, you may observe unexpected behavior. Please pass your input's `attention_mask` to obtain reliable results.\n",
            "Setting `pad_token_id` to `eos_token_id`:50256 for open-end generation.\n",
            "The attention mask and the pad token id were not set. As a consequence, you may observe unexpected behavior. Please pass your input's `attention_mask` to obtain reliable results.\n",
            "Setting `pad_token_id` to `eos_token_id`:50256 for open-end generation.\n",
            "The attention mask and the pad token id were not set. As a consequence, you may observe unexpected behavior. Please pass your input's `attention_mask` to obtain reliable results.\n",
            "Setting `pad_token_id` to `eos_token_id`:50256 for open-end generation.\n",
            "The attention mask and the pad token id were not set. As a consequence, you may observe unexpected behavior. Please pass your input's `attention_mask` to obtain reliable results.\n",
            "Setting `pad_token_id` to `eos_token_id`:50256 for open-end generation.\n",
            "The attention mask and the pad token id were not set. As a consequence, you may observe unexpected behavior. Please pass your input's `attention_mask` to obtain reliable results.\n",
            "Setting `pad_token_id` to `eos_token_id`:50256 for open-end generation.\n",
            "The attention mask and the pad token id were not set. As a consequence, you may observe unexpected behavior. Please pass your input's `attention_mask` to obtain reliable results.\n",
            "Setting `pad_token_id` to `eos_token_id`:50256 for open-end generation.\n",
            "The attention mask and the pad token id were not set. As a consequence, you may observe unexpected behavior. Please pass your input's `attention_mask` to obtain reliable results.\n",
            "Setting `pad_token_id` to `eos_token_id`:50256 for open-end generation.\n",
            "The attention mask and the pad token id were not set. As a consequence, you may observe unexpected behavior. Please pass your input's `attention_mask` to obtain reliable results.\n",
            "Setting `pad_token_id` to `eos_token_id`:50256 for open-end generation.\n",
            "The attention mask and the pad token id were not set. As a consequence, you may observe unexpected behavior. Please pass your input's `attention_mask` to obtain reliable results.\n",
            "Setting `pad_token_id` to `eos_token_id`:50256 for open-end generation.\n"
          ]
        }
      ],
      "source": [
        "predicted = []\n",
        "for seed in seeds:\n",
        "\n",
        "  seed_test= seed\n",
        "  input_ids = tokenizer.encode(seed_test, return_tensors='tf')\n",
        "  sample_outputs = model.generate(\n",
        "    input_ids,\n",
        "    do_sample=True,\n",
        "    max_length=15,\n",
        "    top_k=0,\n",
        "    top_p=0.9,\n",
        "    temperature=0.8,\n",
        "    num_return_sequences=1\n",
        "  )\n",
        "\n",
        "  predicted.append(tokenizer.decode(sample_outputs[0], skip_special_tokens=True))\n"
      ]
    },
    {
      "cell_type": "code",
      "execution_count": 11,
      "metadata": {
        "colab": {
          "base_uri": "https://localhost:8080/"
        },
        "id": "8KKavWt8DhnE",
        "outputId": "4917d48a-6a64-45cd-b16b-dc6dc61c492d"
      },
      "outputs": [
        {
          "data": {
            "text/plain": [
              "['ah why to the distant crywhere as you are no more ye shall be',\n",
              " 'that wings and shall shew brighti on me with such a lustre',\n",
              " 'what mean to you to the brute and not to the brutelyfor the',\n",
              " \"these earthborn god are'dwith thy glowing and lightning hand they shall\",\n",
              " \"what strange yet still the savage's madours have ye not yet wilt\",\n",
              " 'these sighs and pangs of grief and joyfellow of the common',\n",
              " \"'tis she the true queen of truth and a poetess with a thousand\",\n",
              " 'once a train in time to riseand safe for ever once will be the',\n",
              " 'she comes from abroad in camels or goats to teach thee the ways of',\n",
              " \"glares thro' all the joys of lifeand now weep'd the\",\n",
              " \"bids heav'n's softest motionhis roaring oars may calm\",\n",
              " \"and drags me on the dusty road'ring mountain paths and amid the\",\n",
              " \"enjoy thy fruits the bestow'dof the birds and the trees for\",\n",
              " \"this sad fate thro' my heart to that just landwhere the pain which\",\n",
              " 'see at last the caprice of dutyfor the sole cause of love and',\n",
              " \"flame thro' the grove of their headand charm'd every thought to\"]"
            ]
          },
          "execution_count": 11,
          "metadata": {},
          "output_type": "execute_result"
        }
      ],
      "source": [
        "predicted"
      ]
    },
    {
      "cell_type": "code",
      "execution_count": 12,
      "metadata": {
        "colab": {
          "base_uri": "https://localhost:8080/"
        },
        "id": "NyiF70kzDld6",
        "outputId": "2430b42f-19df-4fd1-bee6-ee525b09a754"
      },
      "outputs": [
        {
          "data": {
            "text/plain": [
              "0             ah why this boding start this sudden pain\n",
              "1      that wings my pulse and shoots from vein to vein\n",
              "2             what mean regardless of yon midnight bell\n",
              "3        these earthborn visions saddening o'er my cell\n",
              "4     what strange disorder prompts these thoughts t...\n",
              "5         these sighs to murmur and these tears to flow\n",
              "6                  'tis she 'tis eloisa's form restor'd\n",
              "7         once a pure saint and more than saints ador'd\n",
              "8           she comes in all her killing charms confest\n",
              "9       glares thro' the gloom and pours upon my breast\n",
              "10     bids heav'n's bright guard from paraclete remove\n",
              "11                 and drags me back to misery and love\n",
              "12                 enjoy thy triumphs dear illusion see\n",
              "13               this sad apostate from his god to thee\n",
              "14             see at thy call my guilty warmths return\n",
              "15        flame thro' my blood and steal me from my urn\n",
              "Name: Verse, dtype: object"
            ]
          },
          "execution_count": 12,
          "metadata": {},
          "output_type": "execute_result"
        }
      ],
      "source": [
        "truth"
      ]
    },
    {
      "cell_type": "code",
      "execution_count": 13,
      "metadata": {
        "colab": {
          "base_uri": "https://localhost:8080/"
        },
        "id": "TbBKnH4kZY47",
        "outputId": "2a4bc936-48cb-43a6-8ed0-0545843cd175"
      },
      "outputs": [],
      "source": [
        "# print(\"Output:\", tokenizer.decode(sample_outputs[0], skip_special_tokens=True))"
      ]
    },
    {
      "cell_type": "code",
      "execution_count": 15,
      "metadata": {
        "id": "ey2yAnXeACdV"
      },
      "outputs": [],
      "source": [
        "model2 = SentenceTransformer('all-MiniLM-L6-v2')\n",
        "\n",
        "#encode the sentences \n",
        "truth_embeddings = model2.encode(truth, convert_to_tensor=True)\n",
        "predicted_embeddings = model2.encode(predicted, convert_to_tensor=True)\n",
        "\n",
        "scores = []\n",
        "#compute the similarity scores\n",
        "for i in range(len(truth_embeddings)):\n",
        "  cosine_scores = (util.cos_sim(truth_embeddings[i], predicted_embeddings[i]))\n",
        "  scores.append(cosine_scores)\n",
        "\n",
        "#compute/find the highest similarity scores\n",
        "pairs = []\n",
        "for i in range(len(scores)):\n",
        "      pairs.append({'index': [i], 'score': scores[i]})\n"
      ]
    },
    {
      "cell_type": "code",
      "execution_count": 17,
      "metadata": {
        "id": "VXSEWMJ2GZii"
      },
      "outputs": [],
      "source": [
        "output_df = pd.DataFrame({'truth': truth, 'predicted': predicted, 'score': scores})\n",
        "output_df['score'] = output_df['score'].apply(lambda x: x.item())\n",
        "output_df.sort_values(by=['score'], ascending=False, inplace=True)"
      ]
    },
    {
      "cell_type": "code",
      "execution_count": 18,
      "metadata": {},
      "outputs": [
        {
          "data": {
            "text/html": [
              "<div>\n",
              "<style scoped>\n",
              "    .dataframe tbody tr th:only-of-type {\n",
              "        vertical-align: middle;\n",
              "    }\n",
              "\n",
              "    .dataframe tbody tr th {\n",
              "        vertical-align: top;\n",
              "    }\n",
              "\n",
              "    .dataframe thead th {\n",
              "        text-align: right;\n",
              "    }\n",
              "</style>\n",
              "<table border=\"1\" class=\"dataframe\">\n",
              "  <thead>\n",
              "    <tr style=\"text-align: right;\">\n",
              "      <th></th>\n",
              "      <th>truth</th>\n",
              "      <th>predicted</th>\n",
              "      <th>score</th>\n",
              "    </tr>\n",
              "  </thead>\n",
              "  <tbody>\n",
              "    <tr>\n",
              "      <th>9</th>\n",
              "      <td>glares thro' the gloom and pours upon my breast</td>\n",
              "      <td>glares thro' all the joys of lifeand now weep'd the</td>\n",
              "      <td>0.600873</td>\n",
              "    </tr>\n",
              "    <tr>\n",
              "      <th>5</th>\n",
              "      <td>these sighs to murmur and these tears to flow</td>\n",
              "      <td>these sighs and pangs of grief and joyfellow of the common</td>\n",
              "      <td>0.575053</td>\n",
              "    </tr>\n",
              "    <tr>\n",
              "      <th>15</th>\n",
              "      <td>flame thro' my blood and steal me from my urn</td>\n",
              "      <td>flame thro' the grove of their headand charm'd every thought to</td>\n",
              "      <td>0.574694</td>\n",
              "    </tr>\n",
              "    <tr>\n",
              "      <th>11</th>\n",
              "      <td>and drags me back to misery and love</td>\n",
              "      <td>and drags me on the dusty road'ring mountain paths and amid the</td>\n",
              "      <td>0.540272</td>\n",
              "    </tr>\n",
              "    <tr>\n",
              "      <th>3</th>\n",
              "      <td>these earthborn visions saddening o'er my cell</td>\n",
              "      <td>these earthborn god are'dwith thy glowing and lightning hand they shall</td>\n",
              "      <td>0.491722</td>\n",
              "    </tr>\n",
              "    <tr>\n",
              "      <th>1</th>\n",
              "      <td>that wings my pulse and shoots from vein to vein</td>\n",
              "      <td>that wings and shall shew brighti on me with such a lustre</td>\n",
              "      <td>0.484887</td>\n",
              "    </tr>\n",
              "    <tr>\n",
              "      <th>10</th>\n",
              "      <td>bids heav'n's bright guard from paraclete remove</td>\n",
              "      <td>bids heav'n's softest motionhis roaring oars may calm</td>\n",
              "      <td>0.470400</td>\n",
              "    </tr>\n",
              "    <tr>\n",
              "      <th>6</th>\n",
              "      <td>'tis she 'tis eloisa's form restor'd</td>\n",
              "      <td>'tis she the true queen of truth and a poetess with a thousand</td>\n",
              "      <td>0.423425</td>\n",
              "    </tr>\n",
              "    <tr>\n",
              "      <th>12</th>\n",
              "      <td>enjoy thy triumphs dear illusion see</td>\n",
              "      <td>enjoy thy fruits the bestow'dof the birds and the trees for</td>\n",
              "      <td>0.328502</td>\n",
              "    </tr>\n",
              "    <tr>\n",
              "      <th>13</th>\n",
              "      <td>this sad apostate from his god to thee</td>\n",
              "      <td>this sad fate thro' my heart to that just landwhere the pain which</td>\n",
              "      <td>0.297925</td>\n",
              "    </tr>\n",
              "    <tr>\n",
              "      <th>14</th>\n",
              "      <td>see at thy call my guilty warmths return</td>\n",
              "      <td>see at last the caprice of dutyfor the sole cause of love and</td>\n",
              "      <td>0.286167</td>\n",
              "    </tr>\n",
              "    <tr>\n",
              "      <th>8</th>\n",
              "      <td>she comes in all her killing charms confest</td>\n",
              "      <td>she comes from abroad in camels or goats to teach thee the ways of</td>\n",
              "      <td>0.276593</td>\n",
              "    </tr>\n",
              "    <tr>\n",
              "      <th>0</th>\n",
              "      <td>ah why this boding start this sudden pain</td>\n",
              "      <td>ah why to the distant crywhere as you are no more ye shall be</td>\n",
              "      <td>0.273479</td>\n",
              "    </tr>\n",
              "    <tr>\n",
              "      <th>7</th>\n",
              "      <td>once a pure saint and more than saints ador'd</td>\n",
              "      <td>once a train in time to riseand safe for ever once will be the</td>\n",
              "      <td>0.211310</td>\n",
              "    </tr>\n",
              "    <tr>\n",
              "      <th>4</th>\n",
              "      <td>what strange disorder prompts these thoughts to glow</td>\n",
              "      <td>what strange yet still the savage's madours have ye not yet wilt</td>\n",
              "      <td>0.203696</td>\n",
              "    </tr>\n",
              "    <tr>\n",
              "      <th>2</th>\n",
              "      <td>what mean regardless of yon midnight bell</td>\n",
              "      <td>what mean to you to the brute and not to the brutelyfor the</td>\n",
              "      <td>0.128826</td>\n",
              "    </tr>\n",
              "  </tbody>\n",
              "</table>\n",
              "</div>"
            ],
            "text/plain": [
              "                                                   truth  \\\n",
              "9        glares thro' the gloom and pours upon my breast   \n",
              "5          these sighs to murmur and these tears to flow   \n",
              "15         flame thro' my blood and steal me from my urn   \n",
              "11                  and drags me back to misery and love   \n",
              "3         these earthborn visions saddening o'er my cell   \n",
              "1       that wings my pulse and shoots from vein to vein   \n",
              "10      bids heav'n's bright guard from paraclete remove   \n",
              "6                   'tis she 'tis eloisa's form restor'd   \n",
              "12                  enjoy thy triumphs dear illusion see   \n",
              "13                this sad apostate from his god to thee   \n",
              "14              see at thy call my guilty warmths return   \n",
              "8            she comes in all her killing charms confest   \n",
              "0              ah why this boding start this sudden pain   \n",
              "7          once a pure saint and more than saints ador'd   \n",
              "4   what strange disorder prompts these thoughts to glow   \n",
              "2              what mean regardless of yon midnight bell   \n",
              "\n",
              "                                                                  predicted  \\\n",
              "9                       glares thro' all the joys of lifeand now weep'd the   \n",
              "5                these sighs and pangs of grief and joyfellow of the common   \n",
              "15          flame thro' the grove of their headand charm'd every thought to   \n",
              "11          and drags me on the dusty road'ring mountain paths and amid the   \n",
              "3   these earthborn god are'dwith thy glowing and lightning hand they shall   \n",
              "1                that wings and shall shew brighti on me with such a lustre   \n",
              "10                    bids heav'n's softest motionhis roaring oars may calm   \n",
              "6            'tis she the true queen of truth and a poetess with a thousand   \n",
              "12              enjoy thy fruits the bestow'dof the birds and the trees for   \n",
              "13       this sad fate thro' my heart to that just landwhere the pain which   \n",
              "14            see at last the caprice of dutyfor the sole cause of love and   \n",
              "8        she comes from abroad in camels or goats to teach thee the ways of   \n",
              "0             ah why to the distant crywhere as you are no more ye shall be   \n",
              "7            once a train in time to riseand safe for ever once will be the   \n",
              "4          what strange yet still the savage's madours have ye not yet wilt   \n",
              "2               what mean to you to the brute and not to the brutelyfor the   \n",
              "\n",
              "       score  \n",
              "9   0.600873  \n",
              "5   0.575053  \n",
              "15  0.574694  \n",
              "11  0.540272  \n",
              "3   0.491722  \n",
              "1   0.484887  \n",
              "10  0.470400  \n",
              "6   0.423425  \n",
              "12  0.328502  \n",
              "13  0.297925  \n",
              "14  0.286167  \n",
              "8   0.276593  \n",
              "0   0.273479  \n",
              "7   0.211310  \n",
              "4   0.203696  \n",
              "2   0.128826  "
            ]
          },
          "execution_count": 18,
          "metadata": {},
          "output_type": "execute_result"
        }
      ],
      "source": [
        "pd.set_option('display.max_colwidth', None)\n",
        "output_df"
      ]
    },
    {
      "cell_type": "code",
      "execution_count": null,
      "metadata": {},
      "outputs": [],
      "source": []
    }
  ],
  "metadata": {
    "colab": {
      "provenance": []
    },
    "kernelspec": {
      "display_name": "Python 3",
      "name": "python3"
    },
    "language_info": {
      "codemirror_mode": {
        "name": "ipython",
        "version": 3
      },
      "file_extension": ".py",
      "mimetype": "text/x-python",
      "name": "python",
      "nbconvert_exporter": "python",
      "pygments_lexer": "ipython3",
      "version": "3.7.12"
    }
  },
  "nbformat": 4,
  "nbformat_minor": 0
}
